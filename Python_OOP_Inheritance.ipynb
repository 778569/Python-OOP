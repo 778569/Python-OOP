{
  "nbformat": 4,
  "nbformat_minor": 0,
  "metadata": {
    "colab": {
      "provenance": []
    },
    "kernelspec": {
      "name": "python3",
      "display_name": "Python 3"
    },
    "language_info": {
      "name": "python"
    }
  },
  "cells": [
    {
      "cell_type": "code",
      "execution_count": 11,
      "metadata": {
        "id": "T77gORbUHrSY"
      },
      "outputs": [],
      "source": [
        "class Rectangle:\n",
        "  def __init__(self, width=0, height = 0):\n",
        "    self.width = width\n",
        "    self.height = height\n",
        "    self.area = 0\n",
        "    self.perimeter=0\n",
        "    print('Rectangle Constructor called.!')\n",
        "\n",
        "  def findArea(self):\n",
        "    self.area = self.width*self.height\n",
        "\n",
        "  def findPerimeter(self):\n",
        "    oneSideLength = self.height + self.width\n",
        "    self.perimeter = 2 * oneSideLength\n",
        "\n",
        "  def printDetails(self):\n",
        "\n",
        "        print('width:',self.width)\n",
        "        print('height:',self.height)\n",
        "        print('area:',self.area)\n",
        "        print('perimeter:',self.perimeter)"
      ]
    },
    {
      "cell_type": "code",
      "source": [],
      "metadata": {
        "id": "LHCrxhXGIwRc"
      },
      "execution_count": 2,
      "outputs": []
    },
    {
      "cell_type": "code",
      "source": [],
      "metadata": {
        "id": "H9JMhUQeJrid"
      },
      "execution_count": 3,
      "outputs": []
    },
    {
      "cell_type": "code",
      "source": [],
      "metadata": {
        "id": "P2gV4I5gKEyb"
      },
      "execution_count": 4,
      "outputs": []
    },
    {
      "cell_type": "code",
      "source": [
        "class Square(Rectangle):\n",
        "  def __init__(self, length = 0):\n",
        "    self.lengthOfSide = length\n",
        "    print('Square Constracutor called')\n",
        "\n",
        "  def printSqureDetails(self):\n",
        "     print('length of one side:',self.lengthOfSide)"
      ],
      "metadata": {
        "id": "grIllfDOKJFM"
      },
      "execution_count": 12,
      "outputs": []
    },
    {
      "cell_type": "code",
      "source": [
        "sq1 = Square()\n",
        "sq1.printSqureDetails()"
      ],
      "metadata": {
        "colab": {
          "base_uri": "https://localhost:8080/"
        },
        "id": "flwtQk9nNTlP",
        "outputId": "e6d20de7-9d7c-4d6b-ef9d-a8aef576621a"
      },
      "execution_count": 13,
      "outputs": [
        {
          "output_type": "stream",
          "name": "stdout",
          "text": [
            "Square Constracutor called\n",
            "length of one side: 0\n"
          ]
        }
      ]
    },
    {
      "cell_type": "code",
      "source": [
        "sq1 = Square(10)\n",
        "sq1.printSqureDetails()"
      ],
      "metadata": {
        "colab": {
          "base_uri": "https://localhost:8080/"
        },
        "id": "ulDiYSGsOF6B",
        "outputId": "e2b81ac2-773a-4af5-94d6-92999b3bdd1e"
      },
      "execution_count": 14,
      "outputs": [
        {
          "output_type": "stream",
          "name": "stdout",
          "text": [
            "Square Constracutor called\n",
            "length of one side: 10\n"
          ]
        }
      ]
    },
    {
      "cell_type": "code",
      "source": [
        "class Square(Rectangle):\n",
        "\n",
        "  def __init__(self,length = 0):\n",
        "    self.lengthOfSide = length\n",
        "    self.width = self.height = self.lengthOfSide\n",
        "\n",
        "  def printSquareDetails(self):\n",
        "        print('length of one side:',self.lengthOfSide)\n",
        "        print('area:',self.area)\n",
        "        print('perimeter:',self.perimeter)"
      ],
      "metadata": {
        "id": "VkEJ1rkwOayu"
      },
      "execution_count": 15,
      "outputs": []
    },
    {
      "cell_type": "code",
      "source": [
        "sq1 = Square(10)\n",
        "sq1.findArea()\n",
        "sq1.findPerimeter()\n",
        "sq1.printSquareDetails()"
      ],
      "metadata": {
        "colab": {
          "base_uri": "https://localhost:8080/"
        },
        "id": "sVU2YvWRPnda",
        "outputId": "3a864ef3-3d0f-4177-eb8e-5b7e6e78430c"
      },
      "execution_count": 18,
      "outputs": [
        {
          "output_type": "stream",
          "name": "stdout",
          "text": [
            "length of one side: 10\n",
            "area: 100\n",
            "perimeter: 40\n"
          ]
        }
      ]
    },
    {
      "cell_type": "code",
      "source": [
        "sq1.printDetails()"
      ],
      "metadata": {
        "colab": {
          "base_uri": "https://localhost:8080/"
        },
        "id": "tszUgjb1QpvL",
        "outputId": "5c20aee3-c1a1-491a-8043-ccb92c122292"
      },
      "execution_count": 19,
      "outputs": [
        {
          "output_type": "stream",
          "name": "stdout",
          "text": [
            "width: 10\n",
            "height: 10\n",
            "area: 100\n",
            "perimeter: 40\n"
          ]
        }
      ]
    }
  ]
}